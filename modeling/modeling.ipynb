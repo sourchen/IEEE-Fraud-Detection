{
  "nbformat": 4,
  "nbformat_minor": 0,
  "metadata": {
    "accelerator": "GPU",
    "colab": {
      "name": "資料科學",
      "provenance": []
    },
    "kernelspec": {
      "display_name": "R",
      "name": "ir"
    }
  },
  "cells": [
    {
      "cell_type": "markdown",
      "metadata": {
        "id": "tfkc-UVZXeDO"
      },
      "source": [
        "#Reference\n",
        "https://www.kaggle.com/duykhanh99/lightgbm-starter-with-r-0-9493-lb\n",
        "\n",
        "libraries\n",
        "\n",
        "1 library(googledrive), for read data on driv\n",
        "\n",
        "2 library(lightgbm), LGB \n",
        "\n",
        "3 library(rpart), decision tree\n",
        "\n",
        "4 library(class): for knn\n",
        "\n",
        "5 library(ROCR): plot ROC\n",
        "\n",
        "6 library(caret): performance evaluation\n"
      ]
    },
    {
      "cell_type": "markdown",
      "metadata": {
        "id": "O458zFae8TXB"
      },
      "source": [
        "#1. data\n",
        "#2. LGB\n",
        "#3. null model\n",
        "#4. knn\n",
        "#5. decision tree(unfinished)"
      ]
    },
    {
      "cell_type": "markdown",
      "metadata": {
        "id": "Xvtoq_V89Pdb"
      },
      "source": [
        "#***1***"
      ]
    },
    {
      "cell_type": "markdown",
      "metadata": {
        "id": "JcDNfwCWSiAG"
      },
      "source": [
        "# read input\n"
      ]
    },
    {
      "cell_type": "code",
      "metadata": {
        "colab": {
          "base_uri": "https://localhost:8080/",
          "height": 34
        },
        "id": "Z5OSLsbcHuny",
        "outputId": "05b812f2-60c5-4ce2-f61f-9a6b9ca959b3"
      },
      "source": [
        "R.version.string"
      ],
      "execution_count": null,
      "outputs": [
        {
          "output_type": "display_data",
          "data": {
            "text/plain": [
              "[1] \"R version 4.0.3 (2020-10-10)\""
            ],
            "text/latex": "'R version 4.0.3 (2020-10-10)'",
            "text/markdown": "'R version 4.0.3 (2020-10-10)'",
            "text/html": [
              "'R version 4.0.3 (2020-10-10)'"
            ]
          },
          "metadata": {
            "tags": []
          }
        }
      ]
    },
    {
      "cell_type": "code",
      "metadata": {
        "colab": {
          "base_uri": "https://localhost:8080/"
        },
        "id": "HoIa-ZcpIOeF",
        "outputId": "3047875c-7b31-42a2-d6e7-f11a601d2f58"
      },
      "source": [
        "install.packages(\"googledrive\")\n",
        "library(\"googledrive\")"
      ],
      "execution_count": null,
      "outputs": [
        {
          "output_type": "stream",
          "text": [
            "Installing package into ‘/usr/local/lib/R/site-library’\n",
            "(as ‘lib’ is unspecified)\n",
            "\n",
            "also installing the dependency ‘gargle’\n",
            "\n",
            "\n"
          ],
          "name": "stderr"
        }
      ]
    },
    {
      "cell_type": "code",
      "metadata": {
        "colab": {
          "base_uri": "https://localhost:8080/",
          "height": 321
        },
        "id": "DYQMAjE9X5fx",
        "outputId": "d198296f-9116-41c3-ea1d-10fe617e51ed"
      },
      "source": [
        "drive_auth(\n",
        "  email = gargle::gargle_oauth_email(),\n",
        "  path = NULL,\n",
        "  scopes = \"https://www.googleapis.com/auth/drive\",\n",
        "  cache = gargle::gargle_oauth_cache(),\n",
        "  use_oob = gargle::gargle_oob_default(),\n",
        "  token = NULL\n",
        ")"
      ],
      "execution_count": null,
      "outputs": [
        {
          "output_type": "error",
          "ename": "ERROR",
          "evalue": "ignored",
          "traceback": [
            "Error: Can't get Google credentials.\nAre you running googledrive in a non-interactive session? Consider:\n  * `drive_deauth()` to prevent the attempt to get credentials.\n  * Call `drive_auth()` directly with all necessary specifics.\n  * Read more in: https://gargle.r-lib.org/articles/non-interactive-auth.html\nTraceback:\n",
            "1. drive_auth(email = gargle::gargle_oauth_email(), path = NULL, \n .     scopes = \"https://www.googleapis.com/auth/drive\", cache = gargle::gargle_oauth_cache(), \n .     use_oob = gargle::gargle_oob_default(), token = NULL)",
            "2. stop(\"Can't get Google credentials.\\n\", \"Are you running googledrive in a non-interactive session? Consider:\\n\", \n .     \"  * `drive_deauth()` to prevent the attempt to get credentials.\\n\", \n .     \"  * Call `drive_auth()` directly with all necessary specifics.\\n\", \n .     \"  * Read more in: https://gargle.r-lib.org/articles/non-interactive-auth.html\", \n .     call. = FALSE)"
          ]
        }
      ]
    },
    {
      "cell_type": "code",
      "metadata": {
        "colab": {
          "base_uri": "https://localhost:8080/"
        },
        "id": "gxdaURcVYFtM",
        "outputId": "eee41ca6-9480-4cf2-dc43-28ac2486d25b"
      },
      "source": [
        "# Check if is running in Colab and redefine is_interactive()\n",
        "if (file.exists(\"/usr/local/lib/python3.6/dist-packages/google/colab/_ipython.py\")) {\n",
        "  install.packages(\"R.utils\")\n",
        "  library(\"R.utils\")\n",
        "  library(\"httr\")\n",
        "  my_check <- function() {return(TRUE)}\n",
        "  reassignInPackage(\"is_interactive\", pkgName = \"httr\", my_check) \n",
        "  options(rlang_interactive=TRUE)\n",
        "}"
      ],
      "execution_count": null,
      "outputs": [
        {
          "output_type": "stream",
          "text": [
            "Installing package into ‘/usr/local/lib/R/site-library’\n",
            "(as ‘lib’ is unspecified)\n",
            "\n",
            "also installing the dependencies ‘R.oo’, ‘R.methodsS3’\n",
            "\n",
            "\n",
            "Loading required package: R.oo\n",
            "\n",
            "Loading required package: R.methodsS3\n",
            "\n",
            "R.methodsS3 v1.8.1 (2020-08-26 16:20:06 UTC) successfully loaded. See ?R.methodsS3 for help.\n",
            "\n",
            "R.oo v1.24.0 (2020-08-26 16:11:58 UTC) successfully loaded. See ?R.oo for help.\n",
            "\n",
            "\n",
            "Attaching package: ‘R.oo’\n",
            "\n",
            "\n",
            "The following object is masked from ‘package:R.methodsS3’:\n",
            "\n",
            "    throw\n",
            "\n",
            "\n",
            "The following objects are masked from ‘package:methods’:\n",
            "\n",
            "    getClasses, getMethods\n",
            "\n",
            "\n",
            "The following objects are masked from ‘package:base’:\n",
            "\n",
            "    attach, detach, load, save\n",
            "\n",
            "\n",
            "R.utils v2.10.1 (2020-08-26 22:50:31 UTC) successfully loaded. See ?R.utils for help.\n",
            "\n",
            "\n",
            "Attaching package: ‘R.utils’\n",
            "\n",
            "\n",
            "The following object is masked from ‘package:utils’:\n",
            "\n",
            "    timestamp\n",
            "\n",
            "\n",
            "The following objects are masked from ‘package:base’:\n",
            "\n",
            "    cat, commandArgs, getOption, inherits, isOpen, nullfile, parse,\n",
            "    warnings\n",
            "\n",
            "\n"
          ],
          "name": "stderr"
        }
      ]
    },
    {
      "cell_type": "code",
      "metadata": {
        "colab": {
          "base_uri": "https://localhost:8080/"
        },
        "id": "h1Kx7qbaYI27",
        "outputId": "9ce60407-7770-4f6d-df7a-ad59219aa587"
      },
      "source": [
        "drive_auth(use_oob = TRUE, cache = TRUE)"
      ],
      "execution_count": null,
      "outputs": [
        {
          "output_type": "stream",
          "text": [
            "Please point your browser to the following url: \n",
            "\n",
            "https://accounts.google.com/o/oauth2/auth?client_id=603366585132-0l3n5tr582q443rnomebdeeo0156b2bc.apps.googleusercontent.com&scope=https%3A%2F%2Fwww.googleapis.com%2Fauth%2Fdrive%20https%3A%2F%2Fwww.googleapis.com%2Fauth%2Fuserinfo.email&redirect_uri=urn%3Aietf%3Awg%3Aoauth%3A2.0%3Aoob&response_type=code\n",
            "\n"
          ],
          "name": "stderr"
        },
        {
          "output_type": "stream",
          "text": [
            "Enter authorization code: 4/1AY0e-g5E2AreLZdRRsNwD1pqZOFYXxrg-dILza-hZI1LoKqjZT-RMFPzT28\n"
          ],
          "name": "stdout"
        }
      ]
    },
    {
      "cell_type": "code",
      "metadata": {
        "id": "qqcN53z2PiPp"
      },
      "source": [
        "drive_find(type = \"csv\")"
      ],
      "execution_count": null,
      "outputs": []
    },
    {
      "cell_type": "markdown",
      "metadata": {
        "id": "jSS52bHOgKhi"
      },
      "source": [
        "# load data"
      ]
    },
    {
      "cell_type": "code",
      "metadata": {
        "id": "KG9lmq1JYQO6"
      },
      "source": [
        "system(\"gdown --id 1EuusElMJ8Znzx6Nef-IUvg8lsc1-Xv7j\")\n",
        "train = read.csv(\"train.csv\")"
      ],
      "execution_count": null,
      "outputs": []
    },
    {
      "cell_type": "code",
      "metadata": {
        "id": "x0LhnBhh4SWt"
      },
      "source": [
        "write.csv(train[sample(nrow(train), 500), ])"
      ],
      "execution_count": null,
      "outputs": []
    },
    {
      "cell_type": "code",
      "metadata": {
        "id": "afoOOQuoYZYL"
      },
      "source": [
        "system(\"gdown --id 1Ch5jNZFfR8Ty5qDsAxgc98b9sO9HbbZs\")\n"
      ],
      "execution_count": null,
      "outputs": []
    },
    {
      "cell_type": "code",
      "metadata": {
        "id": "JHbJXln7ZAAF"
      },
      "source": [
        "test = read.csv(\"test.csv\")"
      ],
      "execution_count": null,
      "outputs": []
    },
    {
      "cell_type": "markdown",
      "metadata": {
        "id": "FJXJcCQVAcwl"
      },
      "source": [
        "#data"
      ]
    },
    {
      "cell_type": "code",
      "metadata": {
        "id": "GzbOxGv3Ab-8",
        "colab": {
          "base_uri": "https://localhost:8080/",
          "height": 411
        },
        "outputId": "eb6bee58-0522-49b0-9aad-be2f8972f1c9"
      },
      "source": [
        "head(train)\n",
        "head(test)"
      ],
      "execution_count": null,
      "outputs": [
        {
          "output_type": "display_data",
          "data": {
            "text/plain": [
              "  X TransactionID isFraud TransactionDT TransactionAmt ProductCD card1 card2\n",
              "1 1 2987000       0       86400         68.5           4         10095 500  \n",
              "2 2 2987001       0       86401         29.0           4          1372 303  \n",
              "3 3 2987002       0       86469         59.0           4          2833 389  \n",
              "4 4 2987003       0       86499         50.0           4         13341 466  \n",
              "5 5 2987004       0       86506         50.0           1          2712 413  \n",
              "6 6 2987005       0       86510         49.0           4          3816 454  \n",
              "  card3 card4 ⋯ id_31 id_32 id_33 id_34 id_35 id_36 id_37 id_38 DeviceType\n",
              "1 42    1     ⋯  96   4     260   4     2     2     2     2     1         \n",
              "2 42    2     ⋯  96   4     260   4     2     2     2     2     1         \n",
              "3 42    4     ⋯  96   4     260   4     2     2     2     2     1         \n",
              "4 42    2     ⋯  96   4     260   4     2     2     2     2     1         \n",
              "5 42    2     ⋯ 124   3     164   3     1     0     1     1     2         \n",
              "6 42    4     ⋯  96   4     260   4     2     2     2     2     1         \n",
              "  DeviceInfo\n",
              "1 1735      \n",
              "2 1735      \n",
              "3 1735      \n",
              "4 1735      \n",
              "5  954      \n",
              "6 1735      "
            ],
            "text/latex": "A data.frame: 6 × 435\n\\begin{tabular}{r|lllllllllllllllllllll}\n  & X & TransactionID & isFraud & TransactionDT & TransactionAmt & ProductCD & card1 & card2 & card3 & card4 & ⋯ & id\\_31 & id\\_32 & id\\_33 & id\\_34 & id\\_35 & id\\_36 & id\\_37 & id\\_38 & DeviceType & DeviceInfo\\\\\n  & <int> & <dbl> & <int> & <dbl> & <dbl> & <int> & <int> & <int> & <int> & <int> & ⋯ & <int> & <int> & <int> & <int> & <int> & <int> & <int> & <int> & <int> & <int>\\\\\n\\hline\n\t1 & 1 & 2987000 & 0 & 86400 & 68.5 & 4 & 10095 & 500 & 42 & 1 & ⋯ &  96 & 4 & 260 & 4 & 2 & 2 & 2 & 2 & 1 & 1735\\\\\n\t2 & 2 & 2987001 & 0 & 86401 & 29.0 & 4 &  1372 & 303 & 42 & 2 & ⋯ &  96 & 4 & 260 & 4 & 2 & 2 & 2 & 2 & 1 & 1735\\\\\n\t3 & 3 & 2987002 & 0 & 86469 & 59.0 & 4 &  2833 & 389 & 42 & 4 & ⋯ &  96 & 4 & 260 & 4 & 2 & 2 & 2 & 2 & 1 & 1735\\\\\n\t4 & 4 & 2987003 & 0 & 86499 & 50.0 & 4 & 13341 & 466 & 42 & 2 & ⋯ &  96 & 4 & 260 & 4 & 2 & 2 & 2 & 2 & 1 & 1735\\\\\n\t5 & 5 & 2987004 & 0 & 86506 & 50.0 & 1 &  2712 & 413 & 42 & 2 & ⋯ & 124 & 3 & 164 & 3 & 1 & 0 & 1 & 1 & 2 &  954\\\\\n\t6 & 6 & 2987005 & 0 & 86510 & 49.0 & 4 &  3816 & 454 & 42 & 4 & ⋯ &  96 & 4 & 260 & 4 & 2 & 2 & 2 & 2 & 1 & 1735\\\\\n\\end{tabular}\n",
            "text/markdown": "\nA data.frame: 6 × 435\n\n| <!--/--> | X &lt;int&gt; | TransactionID &lt;dbl&gt; | isFraud &lt;int&gt; | TransactionDT &lt;dbl&gt; | TransactionAmt &lt;dbl&gt; | ProductCD &lt;int&gt; | card1 &lt;int&gt; | card2 &lt;int&gt; | card3 &lt;int&gt; | card4 &lt;int&gt; | ⋯ ⋯ | id_31 &lt;int&gt; | id_32 &lt;int&gt; | id_33 &lt;int&gt; | id_34 &lt;int&gt; | id_35 &lt;int&gt; | id_36 &lt;int&gt; | id_37 &lt;int&gt; | id_38 &lt;int&gt; | DeviceType &lt;int&gt; | DeviceInfo &lt;int&gt; |\n|---|---|---|---|---|---|---|---|---|---|---|---|---|---|---|---|---|---|---|---|---|---|\n| 1 | 1 | 2987000 | 0 | 86400 | 68.5 | 4 | 10095 | 500 | 42 | 1 | ⋯ |  96 | 4 | 260 | 4 | 2 | 2 | 2 | 2 | 1 | 1735 |\n| 2 | 2 | 2987001 | 0 | 86401 | 29.0 | 4 |  1372 | 303 | 42 | 2 | ⋯ |  96 | 4 | 260 | 4 | 2 | 2 | 2 | 2 | 1 | 1735 |\n| 3 | 3 | 2987002 | 0 | 86469 | 59.0 | 4 |  2833 | 389 | 42 | 4 | ⋯ |  96 | 4 | 260 | 4 | 2 | 2 | 2 | 2 | 1 | 1735 |\n| 4 | 4 | 2987003 | 0 | 86499 | 50.0 | 4 | 13341 | 466 | 42 | 2 | ⋯ |  96 | 4 | 260 | 4 | 2 | 2 | 2 | 2 | 1 | 1735 |\n| 5 | 5 | 2987004 | 0 | 86506 | 50.0 | 1 |  2712 | 413 | 42 | 2 | ⋯ | 124 | 3 | 164 | 3 | 1 | 0 | 1 | 1 | 2 |  954 |\n| 6 | 6 | 2987005 | 0 | 86510 | 49.0 | 4 |  3816 | 454 | 42 | 4 | ⋯ |  96 | 4 | 260 | 4 | 2 | 2 | 2 | 2 | 1 | 1735 |\n\n",
            "text/html": [
              "<table>\n",
              "<caption>A data.frame: 6 × 435</caption>\n",
              "<thead>\n",
              "\t<tr><th></th><th scope=col>X</th><th scope=col>TransactionID</th><th scope=col>isFraud</th><th scope=col>TransactionDT</th><th scope=col>TransactionAmt</th><th scope=col>ProductCD</th><th scope=col>card1</th><th scope=col>card2</th><th scope=col>card3</th><th scope=col>card4</th><th scope=col>⋯</th><th scope=col>id_31</th><th scope=col>id_32</th><th scope=col>id_33</th><th scope=col>id_34</th><th scope=col>id_35</th><th scope=col>id_36</th><th scope=col>id_37</th><th scope=col>id_38</th><th scope=col>DeviceType</th><th scope=col>DeviceInfo</th></tr>\n",
              "\t<tr><th></th><th scope=col>&lt;int&gt;</th><th scope=col>&lt;dbl&gt;</th><th scope=col>&lt;int&gt;</th><th scope=col>&lt;dbl&gt;</th><th scope=col>&lt;dbl&gt;</th><th scope=col>&lt;int&gt;</th><th scope=col>&lt;int&gt;</th><th scope=col>&lt;int&gt;</th><th scope=col>&lt;int&gt;</th><th scope=col>&lt;int&gt;</th><th scope=col>⋯</th><th scope=col>&lt;int&gt;</th><th scope=col>&lt;int&gt;</th><th scope=col>&lt;int&gt;</th><th scope=col>&lt;int&gt;</th><th scope=col>&lt;int&gt;</th><th scope=col>&lt;int&gt;</th><th scope=col>&lt;int&gt;</th><th scope=col>&lt;int&gt;</th><th scope=col>&lt;int&gt;</th><th scope=col>&lt;int&gt;</th></tr>\n",
              "</thead>\n",
              "<tbody>\n",
              "\t<tr><th scope=row>1</th><td>1</td><td>2987000</td><td>0</td><td>86400</td><td>68.5</td><td>4</td><td>10095</td><td>500</td><td>42</td><td>1</td><td>⋯</td><td> 96</td><td>4</td><td>260</td><td>4</td><td>2</td><td>2</td><td>2</td><td>2</td><td>1</td><td>1735</td></tr>\n",
              "\t<tr><th scope=row>2</th><td>2</td><td>2987001</td><td>0</td><td>86401</td><td>29.0</td><td>4</td><td> 1372</td><td>303</td><td>42</td><td>2</td><td>⋯</td><td> 96</td><td>4</td><td>260</td><td>4</td><td>2</td><td>2</td><td>2</td><td>2</td><td>1</td><td>1735</td></tr>\n",
              "\t<tr><th scope=row>3</th><td>3</td><td>2987002</td><td>0</td><td>86469</td><td>59.0</td><td>4</td><td> 2833</td><td>389</td><td>42</td><td>4</td><td>⋯</td><td> 96</td><td>4</td><td>260</td><td>4</td><td>2</td><td>2</td><td>2</td><td>2</td><td>1</td><td>1735</td></tr>\n",
              "\t<tr><th scope=row>4</th><td>4</td><td>2987003</td><td>0</td><td>86499</td><td>50.0</td><td>4</td><td>13341</td><td>466</td><td>42</td><td>2</td><td>⋯</td><td> 96</td><td>4</td><td>260</td><td>4</td><td>2</td><td>2</td><td>2</td><td>2</td><td>1</td><td>1735</td></tr>\n",
              "\t<tr><th scope=row>5</th><td>5</td><td>2987004</td><td>0</td><td>86506</td><td>50.0</td><td>1</td><td> 2712</td><td>413</td><td>42</td><td>2</td><td>⋯</td><td>124</td><td>3</td><td>164</td><td>3</td><td>1</td><td>0</td><td>1</td><td>1</td><td>2</td><td> 954</td></tr>\n",
              "\t<tr><th scope=row>6</th><td>6</td><td>2987005</td><td>0</td><td>86510</td><td>49.0</td><td>4</td><td> 3816</td><td>454</td><td>42</td><td>4</td><td>⋯</td><td> 96</td><td>4</td><td>260</td><td>4</td><td>2</td><td>2</td><td>2</td><td>2</td><td>1</td><td>1735</td></tr>\n",
              "</tbody>\n",
              "</table>\n"
            ]
          },
          "metadata": {
            "tags": []
          }
        },
        {
          "output_type": "display_data",
          "data": {
            "text/plain": [
              "  X TransactionID TransactionDT TransactionAmt ProductCD card1 card2 card3\n",
              "1 1 3663549       18403224       31.95         4          7332  10   42   \n",
              "2 2 3663550       18403263       49.00         4          2549  10   42   \n",
              "3 3 3663551       18403310      171.00         4          2695 473   42   \n",
              "4 4 3663552       18403310      284.95         4          7789 259   42   \n",
              "5 5 3663553       18403317       67.95         4         13256 351   42   \n",
              "6 6 3663554       18403323       57.95         4          9252 220   42   \n",
              "  card4 card5 ⋯ id_31 id_32 id_33 id_34 id_35 id_36 id_37 id_38 DeviceType\n",
              "1 4     108   ⋯ 96    4     260   4     2     2     2     2     1         \n",
              "2 4     108   ⋯ 96    4     260   4     2     2     2     2     1         \n",
              "3 4     108   ⋯ 96    4     260   4     2     2     2     2     1         \n",
              "4 4      58   ⋯ 96    4     260   4     2     2     2     2     1         \n",
              "5 2      14   ⋯ 96    4     260   4     2     2     2     2     1         \n",
              "6 4     108   ⋯ 96    4     260   4     2     2     2     2     1         \n",
              "  DeviceInfo\n",
              "1 1735      \n",
              "2 1735      \n",
              "3 1735      \n",
              "4 1735      \n",
              "5 1735      \n",
              "6 1735      "
            ],
            "text/latex": "A data.frame: 6 × 434\n\\begin{tabular}{r|lllllllllllllllllllll}\n  & X & TransactionID & TransactionDT & TransactionAmt & ProductCD & card1 & card2 & card3 & card4 & card5 & ⋯ & id\\_31 & id\\_32 & id\\_33 & id\\_34 & id\\_35 & id\\_36 & id\\_37 & id\\_38 & DeviceType & DeviceInfo\\\\\n  & <int> & <dbl> & <dbl> & <dbl> & <int> & <int> & <int> & <int> & <int> & <int> & ⋯ & <int> & <int> & <int> & <int> & <int> & <int> & <int> & <int> & <int> & <int>\\\\\n\\hline\n\t1 & 1 & 3663549 & 18403224 &  31.95 & 4 &  7332 &  10 & 42 & 4 & 108 & ⋯ & 96 & 4 & 260 & 4 & 2 & 2 & 2 & 2 & 1 & 1735\\\\\n\t2 & 2 & 3663550 & 18403263 &  49.00 & 4 &  2549 &  10 & 42 & 4 & 108 & ⋯ & 96 & 4 & 260 & 4 & 2 & 2 & 2 & 2 & 1 & 1735\\\\\n\t3 & 3 & 3663551 & 18403310 & 171.00 & 4 &  2695 & 473 & 42 & 4 & 108 & ⋯ & 96 & 4 & 260 & 4 & 2 & 2 & 2 & 2 & 1 & 1735\\\\\n\t4 & 4 & 3663552 & 18403310 & 284.95 & 4 &  7789 & 259 & 42 & 4 &  58 & ⋯ & 96 & 4 & 260 & 4 & 2 & 2 & 2 & 2 & 1 & 1735\\\\\n\t5 & 5 & 3663553 & 18403317 &  67.95 & 4 & 13256 & 351 & 42 & 2 &  14 & ⋯ & 96 & 4 & 260 & 4 & 2 & 2 & 2 & 2 & 1 & 1735\\\\\n\t6 & 6 & 3663554 & 18403323 &  57.95 & 4 &  9252 & 220 & 42 & 4 & 108 & ⋯ & 96 & 4 & 260 & 4 & 2 & 2 & 2 & 2 & 1 & 1735\\\\\n\\end{tabular}\n",
            "text/markdown": "\nA data.frame: 6 × 434\n\n| <!--/--> | X &lt;int&gt; | TransactionID &lt;dbl&gt; | TransactionDT &lt;dbl&gt; | TransactionAmt &lt;dbl&gt; | ProductCD &lt;int&gt; | card1 &lt;int&gt; | card2 &lt;int&gt; | card3 &lt;int&gt; | card4 &lt;int&gt; | card5 &lt;int&gt; | ⋯ ⋯ | id_31 &lt;int&gt; | id_32 &lt;int&gt; | id_33 &lt;int&gt; | id_34 &lt;int&gt; | id_35 &lt;int&gt; | id_36 &lt;int&gt; | id_37 &lt;int&gt; | id_38 &lt;int&gt; | DeviceType &lt;int&gt; | DeviceInfo &lt;int&gt; |\n|---|---|---|---|---|---|---|---|---|---|---|---|---|---|---|---|---|---|---|---|---|---|\n| 1 | 1 | 3663549 | 18403224 |  31.95 | 4 |  7332 |  10 | 42 | 4 | 108 | ⋯ | 96 | 4 | 260 | 4 | 2 | 2 | 2 | 2 | 1 | 1735 |\n| 2 | 2 | 3663550 | 18403263 |  49.00 | 4 |  2549 |  10 | 42 | 4 | 108 | ⋯ | 96 | 4 | 260 | 4 | 2 | 2 | 2 | 2 | 1 | 1735 |\n| 3 | 3 | 3663551 | 18403310 | 171.00 | 4 |  2695 | 473 | 42 | 4 | 108 | ⋯ | 96 | 4 | 260 | 4 | 2 | 2 | 2 | 2 | 1 | 1735 |\n| 4 | 4 | 3663552 | 18403310 | 284.95 | 4 |  7789 | 259 | 42 | 4 |  58 | ⋯ | 96 | 4 | 260 | 4 | 2 | 2 | 2 | 2 | 1 | 1735 |\n| 5 | 5 | 3663553 | 18403317 |  67.95 | 4 | 13256 | 351 | 42 | 2 |  14 | ⋯ | 96 | 4 | 260 | 4 | 2 | 2 | 2 | 2 | 1 | 1735 |\n| 6 | 6 | 3663554 | 18403323 |  57.95 | 4 |  9252 | 220 | 42 | 4 | 108 | ⋯ | 96 | 4 | 260 | 4 | 2 | 2 | 2 | 2 | 1 | 1735 |\n\n",
            "text/html": [
              "<table>\n",
              "<caption>A data.frame: 6 × 434</caption>\n",
              "<thead>\n",
              "\t<tr><th></th><th scope=col>X</th><th scope=col>TransactionID</th><th scope=col>TransactionDT</th><th scope=col>TransactionAmt</th><th scope=col>ProductCD</th><th scope=col>card1</th><th scope=col>card2</th><th scope=col>card3</th><th scope=col>card4</th><th scope=col>card5</th><th scope=col>⋯</th><th scope=col>id_31</th><th scope=col>id_32</th><th scope=col>id_33</th><th scope=col>id_34</th><th scope=col>id_35</th><th scope=col>id_36</th><th scope=col>id_37</th><th scope=col>id_38</th><th scope=col>DeviceType</th><th scope=col>DeviceInfo</th></tr>\n",
              "\t<tr><th></th><th scope=col>&lt;int&gt;</th><th scope=col>&lt;dbl&gt;</th><th scope=col>&lt;dbl&gt;</th><th scope=col>&lt;dbl&gt;</th><th scope=col>&lt;int&gt;</th><th scope=col>&lt;int&gt;</th><th scope=col>&lt;int&gt;</th><th scope=col>&lt;int&gt;</th><th scope=col>&lt;int&gt;</th><th scope=col>&lt;int&gt;</th><th scope=col>⋯</th><th scope=col>&lt;int&gt;</th><th scope=col>&lt;int&gt;</th><th scope=col>&lt;int&gt;</th><th scope=col>&lt;int&gt;</th><th scope=col>&lt;int&gt;</th><th scope=col>&lt;int&gt;</th><th scope=col>&lt;int&gt;</th><th scope=col>&lt;int&gt;</th><th scope=col>&lt;int&gt;</th><th scope=col>&lt;int&gt;</th></tr>\n",
              "</thead>\n",
              "<tbody>\n",
              "\t<tr><th scope=row>1</th><td>1</td><td>3663549</td><td>18403224</td><td> 31.95</td><td>4</td><td> 7332</td><td> 10</td><td>42</td><td>4</td><td>108</td><td>⋯</td><td>96</td><td>4</td><td>260</td><td>4</td><td>2</td><td>2</td><td>2</td><td>2</td><td>1</td><td>1735</td></tr>\n",
              "\t<tr><th scope=row>2</th><td>2</td><td>3663550</td><td>18403263</td><td> 49.00</td><td>4</td><td> 2549</td><td> 10</td><td>42</td><td>4</td><td>108</td><td>⋯</td><td>96</td><td>4</td><td>260</td><td>4</td><td>2</td><td>2</td><td>2</td><td>2</td><td>1</td><td>1735</td></tr>\n",
              "\t<tr><th scope=row>3</th><td>3</td><td>3663551</td><td>18403310</td><td>171.00</td><td>4</td><td> 2695</td><td>473</td><td>42</td><td>4</td><td>108</td><td>⋯</td><td>96</td><td>4</td><td>260</td><td>4</td><td>2</td><td>2</td><td>2</td><td>2</td><td>1</td><td>1735</td></tr>\n",
              "\t<tr><th scope=row>4</th><td>4</td><td>3663552</td><td>18403310</td><td>284.95</td><td>4</td><td> 7789</td><td>259</td><td>42</td><td>4</td><td> 58</td><td>⋯</td><td>96</td><td>4</td><td>260</td><td>4</td><td>2</td><td>2</td><td>2</td><td>2</td><td>1</td><td>1735</td></tr>\n",
              "\t<tr><th scope=row>5</th><td>5</td><td>3663553</td><td>18403317</td><td> 67.95</td><td>4</td><td>13256</td><td>351</td><td>42</td><td>2</td><td> 14</td><td>⋯</td><td>96</td><td>4</td><td>260</td><td>4</td><td>2</td><td>2</td><td>2</td><td>2</td><td>1</td><td>1735</td></tr>\n",
              "\t<tr><th scope=row>6</th><td>6</td><td>3663554</td><td>18403323</td><td> 57.95</td><td>4</td><td> 9252</td><td>220</td><td>42</td><td>4</td><td>108</td><td>⋯</td><td>96</td><td>4</td><td>260</td><td>4</td><td>2</td><td>2</td><td>2</td><td>2</td><td>1</td><td>1735</td></tr>\n",
              "</tbody>\n",
              "</table>\n"
            ]
          },
          "metadata": {
            "tags": []
          }
        }
      ]
    },
    {
      "cell_type": "code",
      "metadata": {
        "colab": {
          "base_uri": "https://localhost:8080/"
        },
        "id": "0lMFSbFnWsNw",
        "outputId": "207ce082-c594-42b2-d92b-05da6b4fbd7b"
      },
      "source": [
        "install.packages('lightgbm')\n",
        "library(lightgbm)"
      ],
      "execution_count": null,
      "outputs": [
        {
          "output_type": "stream",
          "text": [
            "Installing package into ‘/usr/local/lib/R/site-library’\n",
            "(as ‘lib’ is unspecified)\n",
            "\n",
            "also installing the dependency ‘data.table’\n",
            "\n",
            "\n",
            "Loading required package: R6\n",
            "\n"
          ],
          "name": "stderr"
        }
      ]
    },
    {
      "cell_type": "code",
      "metadata": {
        "id": "p_zB216jzCSn"
      },
      "source": [
        "y<-train$isFraud\n",
        "train$isFraud<-NULL"
      ],
      "execution_count": null,
      "outputs": []
    },
    {
      "cell_type": "markdown",
      "metadata": {
        "id": "TXlWqi4s9SQl"
      },
      "source": [
        "#***2***"
      ]
    },
    {
      "cell_type": "markdown",
      "metadata": {
        "id": "BVo1I07g6ROk"
      },
      "source": [
        "#run LGB \n",
        "to vali and to produce ROC "
      ]
    },
    {
      "cell_type": "code",
      "metadata": {
        "id": "OoXeymxWXcAV"
      },
      "source": [
        "tr_idx<-c(1:100000)\n",
        "v_idx<-c(100001:130000)\n",
        "d0 <- lgb.Dataset(data.matrix(train[tr_idx,]), label = y[tr_idx] )\n",
        "dval <- lgb.Dataset(data.matrix(train[v_idx,]), label = y[v_idx] ) "
      ],
      "execution_count": null,
      "outputs": []
    },
    {
      "cell_type": "code",
      "metadata": {
        "id": "B7muPdcDY9sd"
      },
      "source": [
        "lgb_param <- list(boosting_type = 'dart',\n",
        "                  objective = \"binary\" ,\n",
        "                  metric = \"AUC\",\n",
        "                  boost_from_average = \"false\",\n",
        "                  tree_learner  = \"serial\",\n",
        "                  max_depth = -1,\n",
        "                  learning_rate = 0.01,\n",
        "                  num_leaves = 197,\n",
        "                  feature_fraction = 0.3,          \n",
        "                  bagging_freq = 1,\n",
        "                  bagging_fraction = 0.7,\n",
        "                  min_data_in_leaf = 100,\n",
        "                  bagging_seed = 11,\n",
        "                  max_bin = 255,\n",
        "                  verbosity = -1)"
      ],
      "execution_count": null,
      "outputs": []
    },
    {
      "cell_type": "code",
      "metadata": {
        "colab": {
          "base_uri": "https://localhost:8080/"
        },
        "id": "oNFT6iVrY_fb",
        "outputId": "157064f1-f05d-48b3-d010-b5c2785eb67f"
      },
      "source": [
        "valids <- list(valid = dval)\n",
        "lgb0 <- lgb.train(params = lgb_param,  data = d0, nrounds = 1000, \n",
        "                 eval_freq = 200, valids = valids, early_stopping_rounds = 400, verbose = 1, seed = 123)"
      ],
      "execution_count": null,
      "outputs": [
        {
          "output_type": "stream",
          "text": [
            "[LightGBM] [Warning] verbosity is set=-1, verbose=1 will be ignored. Current value: verbosity=-1\n"
          ],
          "name": "stdout"
        },
        {
          "output_type": "stream",
          "text": [
            "Warning message in lgb.train(params = lgb_param, data = d0, nrounds = 1000, eval_freq = 200, :\n",
            "“Early stopping is not available in 'dart' mode.”\n"
          ],
          "name": "stderr"
        },
        {
          "output_type": "stream",
          "text": [
            "[1] \"[1]:  valid's auc:0.770706\"\n",
            "[1] \"[201]:  valid's auc:0.884155\"\n",
            "[1] \"[401]:  valid's auc:0.884702\"\n",
            "[1] \"[601]:  valid's auc:0.886555\"\n",
            "[1] \"[801]:  valid's auc:0.88852\"\n",
            "[1] \"[1000]:  valid's auc:0.893213\"\n"
          ],
          "name": "stdout"
        }
      ]
    },
    {
      "cell_type": "code",
      "metadata": {
        "id": "MiomJrlkZgBq"
      },
      "source": [
        "oof_pred <- predict(lgb0, data.matrix(train[v_idx,]))"
      ],
      "execution_count": null,
      "outputs": []
    },
    {
      "cell_type": "code",
      "metadata": {
        "colab": {
          "base_uri": "https://localhost:8080/",
          "height": 539
        },
        "id": "LcDgVZlw3OZq",
        "outputId": "4e18b672-007d-4191-dcd7-ec72c029f1e9"
      },
      "source": [
        "install.packages('ROCR')\n",
        "library(ROCR)\n",
        "pr<-prediction(oof_pred, y[v_idx])\n",
        "perf<-performance(pr,\"tpr\",\"fpr\")\n",
        "plot(perf,colorize=TRUE)"
      ],
      "execution_count": null,
      "outputs": [
        {
          "output_type": "stream",
          "text": [
            "Installing package into ‘/usr/local/lib/R/site-library’\n",
            "(as ‘lib’ is unspecified)\n",
            "\n",
            "also installing the dependencies ‘bitops’, ‘gtools’, ‘caTools’, ‘gplots’\n",
            "\n",
            "\n"
          ],
          "name": "stderr"
        },
        {
          "output_type": "display_data",
          "data": {
            "image/png": "[encoded data removed]",
            "text/plain": [
              "plot without title"
            ]
          },
          "metadata": {
            "tags": [],
            "image/png": {
              "width": 420,
              "height": 420
            }
          }
        }
      ]
    },
    {
      "cell_type": "code",
      "metadata": {
        "id": "vRsIv1ii5beb"
      },
      "source": [
        "oof_pred_bin<-c()\n",
        "for(i in oof_pred){\n",
        "  if(i<.42){\n",
        "    oof_pred_bin<-c(oof_pred_bin,0)\n",
        "  }else{\n",
        "    oof_pred_bin<-c(oof_pred_bin,1)\n",
        "  }\n",
        "}"
      ],
      "execution_count": null,
      "outputs": []
    },
    {
      "cell_type": "code",
      "metadata": {
        "colab": {
          "base_uri": "https://localhost:8080/",
          "height": 494
        },
        "id": "6tEH0jEX0TnV",
        "outputId": "4f63415b-8996-430d-aa47-6a49d08ba40a"
      },
      "source": [
        "install.packages('caret')\n",
        "library(caret)"
      ],
      "execution_count": null,
      "outputs": [
        {
          "output_type": "stream",
          "text": [
            "Installing package into ‘/usr/local/lib/R/site-library’\n",
            "(as ‘lib’ is unspecified)\n",
            "\n",
            "also installing the dependencies ‘numDeriv’, ‘SQUAREM’, ‘lava’, ‘prodlim’, ‘iterators’, ‘gower’, ‘ipred’, ‘timeDate’, ‘foreach’, ‘plyr’, ‘ModelMetrics’, ‘reshape2’, ‘recipes’, ‘pROC’\n",
            "\n",
            "\n",
            "Loading required package: lattice\n",
            "\n",
            "Loading required package: ggplot2\n",
            "\n",
            "\n",
            "Attaching package: ‘caret’\n",
            "\n",
            "\n",
            "The following object is masked from ‘package:httr’:\n",
            "\n",
            "    progress\n",
            "\n",
            "\n"
          ],
          "name": "stderr"
        },
        {
          "output_type": "stream",
          "text": [
            "[1] 0.45\n"
          ],
          "name": "stdout"
        },
        {
          "output_type": "error",
          "ename": "ERROR",
          "evalue": "ignored",
          "traceback": [
            "Error in pr > i: comparison (6) is possible only for atomic and list types\nTraceback:\n",
            "1. table(truth = y[v_idx], prediction = pr > i)"
          ]
        }
      ]
    },
    {
      "cell_type": "code",
      "metadata": {
        "colab": {
          "base_uri": "https://localhost:8080/",
          "height": 357
        },
        "id": "6gFh4InK53Ep",
        "outputId": "1508a2d5-2535-4c27-c57b-c20c798a9d32"
      },
      "source": [
        "oof_pred_bin1<-as.factor(oof_pred_bin)\n",
        "y_v_idx_1<-as.factor(y[v_idx])\n",
        "precision <- posPredValue(oof_pred_bin1, y_v_idx_1, positive=\"1\")\n",
        "recall <- sensitivity(oof_pred_bin1, y_v_idx_1, positive=\"1\")\n",
        "F1 <- (2 * precision * recall) / (precision + recall)\n",
        "print('precision')\n",
        "precision\n",
        "print('recall')\n",
        "recall\n",
        "print('F1')\n",
        "F1\n",
        "cM<-table(truth=y[v_idx], prediction=oof_pred>.42)\n",
        "print('confusion matrix')\n",
        "cM\n",
        "print('acuuracy')\n",
        "(cM[2,2]+cM[1,1])/(cM[2,1]+cM[2,2]+cM[1,1]+cM[1,2])\n",
        "print('sensitivity')\n",
        "cM[2,2]/(cM[2,1]+cM[2,2])\n",
        "print('specificity')\n",
        "cM[1,1]/(cM[1,2]+cM[1,1])\n",
        "cM[1,1]/(cM[1,2]+cM[1,1])\n",
        "print('kappa')\n",
        "kappa"
      ],
      "execution_count": null,
      "outputs": [
        {
          "output_type": "stream",
          "text": [
            "[1] \"precision\"\n"
          ],
          "name": "stdout"
        },
        {
          "output_type": "display_data",
          "data": {
            "text/plain": [
              "[1] 0.7715736"
            ],
            "text/latex": "0.77157360406091",
            "text/markdown": "0.77157360406091",
            "text/html": [
              "0.77157360406091"
            ]
          },
          "metadata": {
            "tags": []
          }
        },
        {
          "output_type": "stream",
          "text": [
            "[1] \"recall\"\n"
          ],
          "name": "stdout"
        },
        {
          "output_type": "display_data",
          "data": {
            "text/plain": [
              "[1] 0.2349304"
            ],
            "text/latex": "0.234930448222566",
            "text/markdown": "0.234930448222566",
            "text/html": [
              "0.234930448222566"
            ]
          },
          "metadata": {
            "tags": []
          }
        },
        {
          "output_type": "stream",
          "text": [
            "[1] \"F1\"\n"
          ],
          "name": "stdout"
        },
        {
          "output_type": "display_data",
          "data": {
            "text/plain": [
              "[1] 0.3601896"
            ],
            "text/latex": "0.360189573459715",
            "text/markdown": "0.360189573459715",
            "text/html": [
              "0.360189573459715"
            ]
          },
          "metadata": {
            "tags": []
          }
        },
        {
          "output_type": "stream",
          "text": [
            "[1] \"confusion matrix\"\n"
          ],
          "name": "stdout"
        },
        {
          "output_type": "display_data",
          "data": {
            "text/plain": [
              "     prediction\n",
              "truth FALSE  TRUE\n",
              "    0 29308    45\n",
              "    1   495   152"
            ]
          },
          "metadata": {
            "tags": []
          }
        },
        {
          "output_type": "stream",
          "text": [
            "[1] \"acuuracy\"\n"
          ],
          "name": "stdout"
        },
        {
          "output_type": "display_data",
          "data": {
            "text/plain": [
              "[1] 0.982"
            ],
            "text/latex": "0.982",
            "text/markdown": "0.982",
            "text/html": [
              "0.982"
            ]
          },
          "metadata": {
            "tags": []
          }
        },
        {
          "output_type": "stream",
          "text": [
            "[1] \"sensitivity\"\n"
          ],
          "name": "stdout"
        },
        {
          "output_type": "display_data",
          "data": {
            "text/plain": [
              "[1] 0.2349304"
            ],
            "text/latex": "0.234930448222566",
            "text/markdown": "0.234930448222566",
            "text/html": [
              "0.234930448222566"
            ]
          },
          "metadata": {
            "tags": []
          }
        },
        {
          "output_type": "stream",
          "text": [
            "[1] \"specificity\"\n"
          ],
          "name": "stdout"
        },
        {
          "output_type": "display_data",
          "data": {
            "text/plain": [
              "[1] 0.9984669"
            ],
            "text/latex": "0.998466936940006",
            "text/markdown": "0.998466936940006",
            "text/html": [
              "0.998466936940006"
            ]
          },
          "metadata": {
            "tags": []
          }
        },
        {
          "output_type": "display_data",
          "data": {
            "text/plain": [
              "[1] 0.9984669"
            ],
            "text/latex": "0.998466936940006",
            "text/markdown": "0.998466936940006",
            "text/html": [
              "0.998466936940006"
            ]
          },
          "metadata": {
            "tags": []
          }
        },
        {
          "output_type": "stream",
          "text": [
            "[1] \"kappa\"\n"
          ],
          "name": "stdout"
        },
        {
          "output_type": "display_data",
          "data": {
            "text/plain": [
              "[1] 0.3536825"
            ],
            "text/latex": "0.353682545303463",
            "text/markdown": "0.353682545303463",
            "text/html": [
              "0.353682545303463"
            ]
          },
          "metadata": {
            "tags": []
          }
        }
      ]
    },
    {
      "cell_type": "code",
      "metadata": {
        "id": "t_Wwf2vuDCZU"
      },
      "source": [
        "#Po = (TP + TN) / (TP + TN + FP + FN),\n",
        "\n",
        "#Pe = ((TP + FN) * (TP + FP) + (FP + TN) * (FN + TN)) / (TP + TN + FP + FN)^2\n",
        "\n",
        "#Kappa = (Po - Pe) / (1 - Pe)\n",
        "\n",
        "tp<-152\n",
        "tn<-29308\n",
        "fp<-45\n",
        "fn<-495\n",
        "po<- 0.982\n",
        "pe<- (((tp+fn)*(tp+fp))+((fp+tn)*(fn+tn)))/((tp+fp+tn+fn)^2)\n",
        "kappa<-((po-pe)/(1-pe))"
      ],
      "execution_count": null,
      "outputs": []
    },
    {
      "cell_type": "code",
      "metadata": {
        "colab": {
          "base_uri": "https://localhost:8080/"
        },
        "id": "90oOLR0I3a6f",
        "outputId": "59dc9503-d823-4a8d-ce04-e402667573bd"
      },
      "source": [
        "#choose threshold => 0.42 used above\n",
        "dddd<-c(0.1,0.2,0.3,0.4,0.5,0.6,0.7,0.8)\n",
        "for(i in dddd){ \n",
        "  print(i)\n",
        "  cM<-table(truth=y[v_idx], prediction=oof_pred>i)\n",
        "  print(cM[1,1]+cM[2,2])\n",
        "}\n",
        "ssss<-c(0.35,0.36,0.37,0.38,0.39,0.4,0.41,0.42,0.43,0.44,0.45)\n",
        "for(i in ssss){ \n",
        "  print(i)\n",
        "  cM<-table(truth=y[v_idx], prediction=oof_pred>i)\n",
        "  print(cM[1,1]+cM[2,2])\n",
        "} #.42 best"
      ],
      "execution_count": null,
      "outputs": [
        {
          "output_type": "stream",
          "text": [
            "[1] 0.1\n",
            "[1] 27418\n",
            "[1] 0.2\n",
            "[1] 29307\n",
            "[1] 0.3\n",
            "[1] 29428\n",
            "[1] 0.4\n",
            "[1] 29460\n",
            "[1] 0.5\n",
            "[1] 29441\n",
            "[1] 0.6\n",
            "[1] 29426\n",
            "[1] 0.7\n",
            "[1] 29401\n",
            "[1] 0.8\n",
            "[1] 29374\n",
            "[1] 0.35\n",
            "[1] 29459\n",
            "[1] 0.36\n",
            "[1] 29456\n",
            "[1] 0.37\n",
            "[1] 29454\n",
            "[1] 0.38\n",
            "[1] 29456\n",
            "[1] 0.39\n",
            "[1] 29458\n",
            "[1] 0.4\n",
            "[1] 29460\n",
            "[1] 0.41\n",
            "[1] 29464\n",
            "[1] 0.42\n",
            "[1] 29460\n",
            "[1] 0.43\n",
            "[1] 29459\n",
            "[1] 0.44\n",
            "[1] 29457\n",
            "[1] 0.45\n",
            "[1] 29454\n"
          ],
          "name": "stdout"
        }
      ]
    },
    {
      "cell_type": "markdown",
      "metadata": {
        "id": "c_Hc3ba97ERg"
      },
      "source": [
        "#modeling on full data & try 3 different nrounds\n",
        "number of rounds starts from the best iteration above, which is 4, than to 10, 30, 100... so far 100 has the highest score, might some higher rounds but comsumes time however."
      ]
    },
    {
      "cell_type": "code",
      "metadata": {
        "colab": {
          "base_uri": "https://localhost:8080/"
        },
        "id": "MriRtVEafxle",
        "outputId": "d022a153-bf3a-4fdc-fb14-c3bcd86bd5dd"
      },
      "source": [
        "#full data\n",
        "iter <- lgb$best_iter\n",
        "print(iter * 1.05,digits = 0)\n",
        "d0 <- lgb.Dataset(data.matrix(train), label = y )\n",
        "lgb <- lgb.train(params = lgb_param, data = d0, nrounds = 4, verbose = -1, seed = 123) #nrounds = iter * 1.05\n",
        "pred <- predict(lgb, data.matrix(test))\n",
        "\n",
        "imp <- lgb.importance(lgb)"
      ],
      "execution_count": null,
      "outputs": [
        {
          "output_type": "stream",
          "text": [
            "[1] -1\n",
            "[LightGBM] [Warning] verbosity is set=-1, verbose=-1 will be ignored. Current value: verbosity=-1\n"
          ],
          "name": "stdout"
        },
        {
          "output_type": "stream",
          "text": [
            "Warning message in lgb.train(params = lgb_param, data = d0, nrounds = 4, verbose = -1, :\n",
            "“Early stopping is not available in 'dart' mode.”\n"
          ],
          "name": "stderr"
        }
      ]
    },
    {
      "cell_type": "code",
      "metadata": {
        "colab": {
          "base_uri": "https://localhost:8080/"
        },
        "id": "Jjl9O-oMmDKa",
        "outputId": "d1282209-fe1b-4bc4-b5e9-586259ceb1eb"
      },
      "source": [
        "sub <- data.frame(read_csv(\"sample_submission.csv\"))\n",
        "sub[,2] <- pred\n",
        "sub[,1] <- as.integer(sub[,1])\n",
        "write.csv(sub,\"submission.csv\",row.names = F)"
      ],
      "execution_count": null,
      "outputs": [
        {
          "output_type": "stream",
          "text": [
            "\n",
            "\u001b[36m──\u001b[39m \u001b[1m\u001b[1mColumn specification\u001b[1m\u001b[22m \u001b[36m────────────────────────────────────────────────────────\u001b[39m\n",
            "cols(\n",
            "  TransactionID = \u001b[32mcol_double()\u001b[39m,\n",
            "  isFraud = \u001b[32mcol_double()\u001b[39m\n",
            ")\n",
            "\n",
            "\n"
          ],
          "name": "stderr"
        }
      ]
    },
    {
      "cell_type": "code",
      "metadata": {
        "colab": {
          "base_uri": "https://localhost:8080/"
        },
        "id": "826nVUpgq3tE",
        "outputId": "1f9128a4-2db6-41c9-bfb8-08d3b10b01c2"
      },
      "source": [
        "#d0 <- lgb.Dataset(data.matrix(train), label = y )\n",
        "lgb <- lgb.train(params = lgb_param, data = d0, nrounds = 10, verbose = -1, seed = 123) #nrounds = iter * 1.05\n",
        "pred <- predict(lgb, data.matrix(test))\n",
        "sub <- data.frame(read_csv(\"sample_submission.csv\"))\n",
        "sub[,2] <- pred\n",
        "sub[,1] <- as.integer(sub[,1])\n",
        "write.csv(sub,\"submission_10.csv\",row.names = F)"
      ],
      "execution_count": null,
      "outputs": [
        {
          "output_type": "stream",
          "text": [
            "[LightGBM] [Warning] verbosity is set=-1, verbose=-1 will be ignored. Current value: verbosity=-1\n"
          ],
          "name": "stdout"
        },
        {
          "output_type": "stream",
          "text": [
            "Warning message in lgb.train(params = lgb_param, data = d0, nrounds = 10, verbose = -1, :\n",
            "“Early stopping is not available in 'dart' mode.”\n",
            "\n",
            "\u001b[36m──\u001b[39m \u001b[1m\u001b[1mColumn specification\u001b[1m\u001b[22m \u001b[36m────────────────────────────────────────────────────────\u001b[39m\n",
            "cols(\n",
            "  TransactionID = \u001b[32mcol_double()\u001b[39m,\n",
            "  isFraud = \u001b[32mcol_double()\u001b[39m\n",
            ")\n",
            "\n",
            "\n"
          ],
          "name": "stderr"
        }
      ]
    },
    {
      "cell_type": "code",
      "metadata": {
        "colab": {
          "base_uri": "https://localhost:8080/"
        },
        "id": "A72ubh1srSm7",
        "outputId": "acbf97d7-8334-4899-d1c2-e96b974402a3"
      },
      "source": [
        "#d0 <- lgb.Dataset(data.matrix(train), label = y )\n",
        "lgb <- lgb.train(params = lgb_param, data = d0, nrounds = 1000, verbose = -1, seed = 123) #nrounds = iter * 1.05\n",
        "pred <- predict(lgb, data.matrix(test))\n",
        "sub <- data.frame(read_csv(\"sample_submission.csv\"))\n",
        "sub[,2] <- pred\n",
        "sub[,1] <- as.integer(sub[,1])\n",
        "write.csv(sub,\"submission_1000.csv\",row.names = F)"
      ],
      "execution_count": null,
      "outputs": [
        {
          "output_type": "stream",
          "text": [
            "[LightGBM] [Warning] verbosity is set=-1, verbose=-1 will be ignored. Current value: verbosity=-1\n"
          ],
          "name": "stdout"
        },
        {
          "output_type": "stream",
          "text": [
            "Warning message in lgb.train(params = lgb_param, data = d0, nrounds = 1000, verbose = -1, :\n",
            "“Early stopping is not available in 'dart' mode.”\n"
          ],
          "name": "stderr"
        }
      ]
    },
    {
      "cell_type": "code",
      "metadata": {
        "id": "U8uUaOLZwEFv"
      },
      "source": [
        "library(class)\n",
        "pr1<-knn(train,test,cl=y,k=2,prob=TRUE) \n",
        "sub[,2]<-prl\n",
        "write.csv(sub,\"submission_knn2.csv\",row.names = F)"
      ],
      "execution_count": null,
      "outputs": []
    },
    {
      "cell_type": "code",
      "metadata": {
        "colab": {
          "base_uri": "https://localhost:8080/",
          "height": 544
        },
        "id": "XCFbgRf32qBx",
        "outputId": "702974ef-9077-4fe8-9346-6e584393295f"
      },
      "source": [
        "d01"
      ],
      "execution_count": null,
      "outputs": [
        {
          "output_type": "display_data",
          "data": {
            "text/plain": [
              "<lgb.Dataset>\n",
              "  Public:\n",
              "    construct: function () \n",
              "    create_valid: function (data, info = list(), ...) \n",
              "    dim: function () \n",
              "    finalize: function () \n",
              "    get_colnames: function () \n",
              "    get_params: function () \n",
              "    getinfo: function (name) \n",
              "    initialize: function (data, params = list(), reference = NULL, colnames = NULL, \n",
              "    save_binary: function (fname) \n",
              "    set_categorical_feature: function (categorical_feature) \n",
              "    set_colnames: function (colnames) \n",
              "    set_reference: function (reference) \n",
              "    setinfo: function (name, info) \n",
              "    slice: function (idxset, ...) \n",
              "    update_params: function (params) \n",
              "  Private:\n",
              "    categorical_feature: NULL\n",
              "    colnames: X TransactionID TransactionDT TransactionAmt ProductCD c ...\n",
              "    free_raw_data: TRUE\n",
              "    get_handle: function () \n",
              "    handle: 4.63611011586869e-310\n",
              "    info: list\n",
              "    params: list\n",
              "    predictor: NULL\n",
              "    raw_data: NULL\n",
              "    reference: NULL\n",
              "    set_predictor: function (predictor) \n",
              "    used_indices: NULL\n",
              "    version: 1"
            ]
          },
          "metadata": {
            "tags": []
          }
        }
      ]
    },
    {
      "cell_type": "markdown",
      "metadata": {
        "id": "8JMmg3m59Y-W"
      },
      "source": [
        "#***3***"
      ]
    },
    {
      "cell_type": "markdown",
      "metadata": {
        "id": "olnom0uE9bfM"
      },
      "source": [
        "#null model"
      ]
    },
    {
      "cell_type": "code",
      "metadata": {
        "colab": {
          "base_uri": "https://localhost:8080/",
          "height": 454
        },
        "id": "B9yf5Bzb-0nM",
        "outputId": "0548be56-31ce-4ebb-8247-6defd20d8039"
      },
      "source": [
        "null_pred<-c()\n",
        "for(i in c(1:30000)){\n",
        "  null_pred<-c(null_pred,runif(1))\n",
        "}\n",
        "head(null_pred)\n",
        "pr1<-prediction(null_pred, y[1:30000])\n",
        "perf1<-performance(pr1,\"tpr\",\"fpr\")\n",
        "plot(perf1,colorize=TRUE)"
      ],
      "execution_count": null,
      "outputs": [
        {
          "output_type": "display_data",
          "data": {
            "text/plain": [
              "[1] 0.1287648 0.2866614 0.1693616 0.9284918 0.5281163 0.5320208"
            ],
            "text/latex": "\\begin{enumerate*}\n\\item 0.12876478722319\n\\item 0.286661350168288\n\\item 0.169361611362547\n\\item 0.928491831058636\n\\item 0.528116275789216\n\\item 0.532020764192566\n\\end{enumerate*}\n",
            "text/markdown": "1. 0.12876478722319\n2. 0.286661350168288\n3. 0.169361611362547\n4. 0.928491831058636\n5. 0.528116275789216\n6. 0.532020764192566\n\n\n",
            "text/html": [
              "<style>\n",
              ".list-inline {list-style: none; margin:0; padding: 0}\n",
              ".list-inline>li {display: inline-block}\n",
              ".list-inline>li:not(:last-child)::after {content: \"\\00b7\"; padding: 0 .5ex}\n",
              "</style>\n",
              "<ol class=list-inline><li>0.12876478722319</li><li>0.286661350168288</li><li>0.169361611362547</li><li>0.928491831058636</li><li>0.528116275789216</li><li>0.532020764192566</li></ol>\n"
            ]
          },
          "metadata": {
            "tags": []
          }
        },
        {
          "output_type": "display_data",
          "data": {
            "image/png": "[encoded data removed]",
            "text/plain": [
              "plot without title"
            ]
          },
          "metadata": {
            "tags": [],
            "image/png": {
              "width": 420,
              "height": 420
            }
          }
        }
      ]
    },
    {
      "cell_type": "code",
      "metadata": {
        "colab": {
          "base_uri": "https://localhost:8080/"
        },
        "id": "1pZ3SEI99muB",
        "outputId": "fe2fb60f-dfd2-474e-8fcd-48576f3709c4"
      },
      "source": [
        "#choose threshold => 0.42 used above\n",
        "dddd<-c(0.1,0.2,0.3,0.4,0.5,0.6,0.7,0.8,0.9)\n",
        "for(i in dddd){ \n",
        "  print(i)\n",
        "  cM<-table(truth=y[1:30000], prediction=null_pred>i)\n",
        "  print(cM[1,1]+cM[2,2])\n",
        "}\n",
        "ssss<-c(0.85,0.86,0.87,0.88,0.89,0.9,0.91,0.92,0.93,0.94,0.95)\n",
        "for(i in ssss){ \n",
        "  print(i)\n",
        "  cM<-table(truth=y[1:30000], prediction=null_pred>i)\n",
        "  print(cM[1,1]+cM[2,2])\n",
        "} #.95 best"
      ],
      "execution_count": null,
      "outputs": [
        {
          "output_type": "stream",
          "text": [
            "[1] 0.1\n",
            "[1] 3669\n",
            "[1] 0.2\n",
            "[1] 6537\n",
            "[1] 0.3\n",
            "[1] 9330\n",
            "[1] 0.4\n",
            "[1] 12121\n",
            "[1] 0.5\n",
            "[1] 15004\n",
            "[1] 0.6\n",
            "[1] 17817\n",
            "[1] 0.7\n",
            "[1] 20663\n",
            "[1] 0.8\n",
            "[1] 23498\n",
            "[1] 0.9\n",
            "[1] 26340\n",
            "[1] 0.85\n",
            "[1] 24917\n",
            "[1] 0.86\n",
            "[1] 25169\n",
            "[1] 0.87\n",
            "[1] 25448\n",
            "[1] 0.88\n",
            "[1] 25760\n",
            "[1] 0.89\n",
            "[1] 26065\n",
            "[1] 0.9\n",
            "[1] 26340\n",
            "[1] 0.91\n",
            "[1] 26632\n",
            "[1] 0.92\n",
            "[1] 26921\n",
            "[1] 0.93\n",
            "[1] 27188\n",
            "[1] 0.94\n",
            "[1] 27456\n",
            "[1] 0.95\n",
            "[1] 27729\n"
          ],
          "name": "stdout"
        }
      ]
    },
    {
      "cell_type": "code",
      "metadata": {
        "id": "Lp7fOgVa-TuP"
      },
      "source": [
        "null_pred_bin<-c()\n",
        "for(i in null_pred){\n",
        "  if(i<.97){\n",
        "    null_pred_bin<-c(null_pred_bin,0)\n",
        "  }else{\n",
        "    null_pred_bin<-c(null_pred_bin,1)\n",
        "  }\n",
        "}"
      ],
      "execution_count": null,
      "outputs": []
    },
    {
      "cell_type": "code",
      "metadata": {
        "colab": {
          "base_uri": "https://localhost:8080/",
          "height": 340
        },
        "id": "zEkESjtg9WCZ",
        "outputId": "812408ca-2195-4797-f581-1c3c067fd21e"
      },
      "source": [
        "null_pred_bin1<-as.factor(null_pred_bin)\n",
        "y_v_idx_2<-as.factor(y[1:30000])\n",
        "precision <- posPredValue(null_pred_bin1, y_v_idx_2, positive=\"1\")\n",
        "recall <- sensitivity(null_pred_bin1, y_v_idx_2, positive=\"1\")\n",
        "F1 <- (2 * precision * recall) / (precision + recall)\n",
        "print('precision')\n",
        "precision\n",
        "print('recall')\n",
        "recall\n",
        "print('F1')\n",
        "F1\n",
        "cM<-table(truth=y[1:30000], prediction=null_pred>.97)\n",
        "print('confusion matrix')\n",
        "cM\n",
        "print('acuuracy')\n",
        "(cM[2,2]+cM[1,1])/(cM[2,1]+cM[2,2]+cM[1,1]+cM[1,2])\n",
        "print('sensitivity')\n",
        "cM[2,2]/(cM[2,1]+cM[2,2])\n",
        "print('specificity')\n",
        "cM[1,1]/(cM[1,2]+cM[1,1])\n",
        "print('kappa')\n",
        "kappa"
      ],
      "execution_count": null,
      "outputs": [
        {
          "output_type": "stream",
          "text": [
            "[1] \"precision\"\n"
          ],
          "name": "stdout"
        },
        {
          "output_type": "display_data",
          "data": {
            "text/plain": [
              "[1] 0.03145336"
            ],
            "text/latex": "0.0314533622559653",
            "text/markdown": "0.0314533622559653",
            "text/html": [
              "0.0314533622559653"
            ]
          },
          "metadata": {
            "tags": []
          }
        },
        {
          "output_type": "stream",
          "text": [
            "[1] \"recall\"\n"
          ],
          "name": "stdout"
        },
        {
          "output_type": "display_data",
          "data": {
            "text/plain": [
              "[1] 0.03372093"
            ],
            "text/latex": "0.0337209302325581",
            "text/markdown": "0.0337209302325581",
            "text/html": [
              "0.0337209302325581"
            ]
          },
          "metadata": {
            "tags": []
          }
        },
        {
          "output_type": "stream",
          "text": [
            "[1] \"F1\"\n"
          ],
          "name": "stdout"
        },
        {
          "output_type": "display_data",
          "data": {
            "text/plain": [
              "[1] 0.0325477"
            ],
            "text/latex": "0.0325476992143659",
            "text/markdown": "0.0325476992143659",
            "text/html": [
              "0.0325476992143659"
            ]
          },
          "metadata": {
            "tags": []
          }
        },
        {
          "output_type": "stream",
          "text": [
            "[1] \"confusion matrix\"\n"
          ],
          "name": "stdout"
        },
        {
          "output_type": "display_data",
          "data": {
            "text/plain": [
              "     prediction\n",
              "truth FALSE  TRUE\n",
              "    0 28247   893\n",
              "    1   831    29"
            ]
          },
          "metadata": {
            "tags": []
          }
        },
        {
          "output_type": "stream",
          "text": [
            "[1] \"acuuracy\"\n"
          ],
          "name": "stdout"
        },
        {
          "output_type": "display_data",
          "data": {
            "text/plain": [
              "[1] 0.9425333"
            ],
            "text/latex": "0.942533333333333",
            "text/markdown": "0.942533333333333",
            "text/html": [
              "0.942533333333333"
            ]
          },
          "metadata": {
            "tags": []
          }
        },
        {
          "output_type": "stream",
          "text": [
            "[1] \"sensitivity\"\n"
          ],
          "name": "stdout"
        },
        {
          "output_type": "display_data",
          "data": {
            "text/plain": [
              "[1] 0.03372093"
            ],
            "text/latex": "0.0337209302325581",
            "text/markdown": "0.0337209302325581",
            "text/html": [
              "0.0337209302325581"
            ]
          },
          "metadata": {
            "tags": []
          }
        },
        {
          "output_type": "stream",
          "text": [
            "[1] \"specificity\"\n"
          ],
          "name": "stdout"
        },
        {
          "output_type": "display_data",
          "data": {
            "text/plain": [
              "[1] 0.9693548"
            ],
            "text/latex": "0.969354838709677",
            "text/markdown": "0.969354838709677",
            "text/html": [
              "0.969354838709677"
            ]
          },
          "metadata": {
            "tags": []
          }
        },
        {
          "output_type": "stream",
          "text": [
            "[1] \"kappa\"\n"
          ],
          "name": "stdout"
        },
        {
          "output_type": "display_data",
          "data": {
            "text/plain": [
              "[1] 0.002971807"
            ],
            "text/latex": "0.00297180715793102",
            "text/markdown": "0.00297180715793102",
            "text/html": [
              "0.00297180715793102"
            ]
          },
          "metadata": {
            "tags": []
          }
        }
      ]
    },
    {
      "cell_type": "code",
      "metadata": {
        "id": "misjnnHjBhAw"
      },
      "source": [
        "#Po = (TP + TN) / (TP + TN + FP + FN),\n",
        "\n",
        "#Pe = ((TP + FN) * (TP + FP) + (FP + TN) * (FN + TN)) / (TP + TN + FP + FN)^2\n",
        "\n",
        "#Kappa = (Po - Pe) / (1 - Pe)\n",
        "\n",
        "po<- 0.942533333333333\n",
        "pe<- (((29+831)*(29+893))+((893+28247)*(831+28247)))/((cM[2,1]+cM[2,2]+cM[1,1]+cM[1,2])^2)\n",
        "kappa<-((po-pe)/(1-pe))"
      ],
      "execution_count": null,
      "outputs": []
    },
    {
      "cell_type": "code",
      "metadata": {
        "id": "8OXHFCmV9aza"
      },
      "source": [
        "#null model 1:length(test[,2])\n",
        "null_pred<-c()\n",
        "for(i in 1:length(test[,2])){\n",
        "  null_pred<-c(null_pred,runif(1))\n",
        "}\n",
        "sub[,2]<-null_pred\n",
        "write.csv(sub,\"submission_null.csv\",row.names = F)"
      ],
      "execution_count": null,
      "outputs": []
    },
    {
      "cell_type": "markdown",
      "metadata": {
        "id": "AMR88dsJh7OT"
      },
      "source": [
        "#***4***"
      ]
    },
    {
      "cell_type": "markdown",
      "metadata": {
        "id": "F2SI7n2iiBxu"
      },
      "source": [
        "#knn"
      ]
    },
    {
      "cell_type": "code",
      "metadata": {
        "id": "nbZtEBQiiBWY"
      },
      "source": [
        "library(class)\n",
        "#with smaller dataset \n",
        "index<-sample(1:100000,10000)\n",
        "trn_idx<-index[1:8000]\n",
        "vali_idx<-index[8001:10000]\n",
        "y<-train$isFraud\n",
        "train$isFraud<-NULL\n",
        "train1<-train[trn_idx,]\n",
        "vali1<-train[vali_idx,]\n",
        "y_train1<-y[trn_idx]\n",
        "y_vali1<-y[vali_idx]\n",
        "k2<-knn(train1,vali1,cl=y_train1,k=2,prob=TRUE) \n",
        "cm2<-table(k2,y_vali1)\n",
        "print('--2')\n",
        "sum(diag(cm2))/sum(cm2)\n",
        "#plot\n",
        "y_vali1<-as.numeric(y_vali1)\n",
        "k2<-as.numeric(k2)\n",
        "library(ROCR)\n",
        "pr<-prediction(k2, y_vali1)\n",
        "perf<-performance(pr,\"tpr\",\"fpr\")\n",
        "plot(perf,colorize=TRUE)\n",
        "#full data\n",
        "k<-knn(train,test,cl=y,k=2) \n",
        "out<-data.frame(TransactionID=as.integer(test[,2]),isFraud=k)\n",
        "write.csv(out, file='result_knn.csv', row.names = F)"
      ],
      "execution_count": null,
      "outputs": []
    },
    {
      "cell_type": "markdown",
      "metadata": {
        "id": "ABYEkqQl-Hx2"
      },
      "source": [
        "#***5***"
      ]
    },
    {
      "cell_type": "markdown",
      "metadata": {
        "id": "NbOQUF15gYN8"
      },
      "source": [
        "#decision tree"
      ]
    },
    {
      "cell_type": "code",
      "metadata": {
        "id": "-fOHP5Wak8he"
      },
      "source": [
        "library('rpart')"
      ],
      "execution_count": null,
      "outputs": []
    },
    {
      "cell_type": "code",
      "metadata": {
        "id": "G-K5jPTYzbJO"
      },
      "source": [
        "# train the model \n",
        "model <- rpart(isFraud~., data=train, method=\"class\")"
      ],
      "execution_count": null,
      "outputs": []
    },
    {
      "cell_type": "code",
      "metadata": {
        "id": "WIpbdarolVl4",
        "colab": {
          "base_uri": "https://localhost:8080/",
          "height": 221
        },
        "outputId": "bba2a65e-99bd-4309-fca2-65b3c00ee1d1"
      },
      "source": [
        "# make predictions\n",
        "model"
      ],
      "execution_count": null,
      "outputs": [
        {
          "output_type": "display_data",
          "data": {
            "text/plain": [
              "n= 590540 \n",
              "\n",
              "node), split, n, loss, yval, (yprob)\n",
              "      * denotes terminal node\n",
              "\n",
              " 1) root 590540 20663 0 (0.96500999 0.03499001)  \n",
              "   2) V258< 2.5 584316 16856 0 (0.97115260 0.02884740) *\n",
              "   3) V258>=2.5 6224  2417 1 (0.38833548 0.61166452)  \n",
              "     6) C1< 4.5 3032  1117 0 (0.63159631 0.36840369)  \n",
              "      12) C14>=0.5 1865   351 0 (0.81179625 0.18820375) *\n",
              "      13) C14< 0.5 1167   401 1 (0.34361611 0.65638389) *\n",
              "     7) C1>=4.5 3192   502 1 (0.15726817 0.84273183) *"
            ]
          },
          "metadata": {
            "tags": []
          }
        }
      ]
    },
    {
      "cell_type": "code",
      "metadata": {
        "id": "824-LYUW_z5i"
      },
      "source": [
        "train_resultframe <- data.frame(truth=train$isFraud, pred=predict(model, newdata=train, type=\"class\"))"
      ],
      "execution_count": null,
      "outputs": []
    },
    {
      "cell_type": "code",
      "metadata": {
        "id": "RYVt2kqWaMMm"
      },
      "source": [
        "install.packages(\"rpart.plot\") #第一次使用前須先安裝\n",
        "library(rpart.plot)\n",
        "prp(model)\t"
      ],
      "execution_count": null,
      "outputs": []
    },
    {
      "cell_type": "code",
      "metadata": {
        "id": "ywiTmN6xZR2-"
      },
      "source": [
        "model <- glm(isFraud~., data=train, family=binomial(link=\"logit\"))\n"
      ],
      "execution_count": null,
      "outputs": []
    }
  ]
}